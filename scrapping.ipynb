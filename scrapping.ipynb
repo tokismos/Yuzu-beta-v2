{
 "cells": [
  {
   "cell_type": "code",
   "execution_count": 81,
   "id": "0ab8cc60",
   "metadata": {},
   "outputs": [],
   "source": [
    "import requests \n",
    "from bs4 import BeautifulSoup \n",
    "from collections import OrderedDict\n",
    "\n",
    "URL = \"https://www.cuisine-libre.org/recettes?lang=fr\"\n",
    "r = requests.get(URL) \n",
    "\n",
    "soup = BeautifulSoup(r.content, 'html5lib') \n",
    "#print(soup.prettify()) "
   ]
  },
  {
   "cell_type": "code",
   "execution_count": 82,
   "id": "f010ed69",
   "metadata": {},
   "outputs": [],
   "source": [
    "rubriques = [375,383,380,368,677,614,691,688,620,388,385,399]\n",
    "list_rubriques=[]\n",
    "for i in rubriques:\n",
    "    table_rubriques = soup.findAll('h2', attrs = {'class':'crayon rubrique-titre-'+str(i)}) \n",
    "    for row in table_rubriques:\n",
    "        #print(row.text)\n",
    "        row = row.text.replace('\\xa0', ' ')\n",
    "        list_rubriques.append(row)"
   ]
  },
  {
   "cell_type": "code",
   "execution_count": 83,
   "id": "39a569e8",
   "metadata": {},
   "outputs": [],
   "source": [
    "table_ = soup.findAll('div', attrs = {'class':'col-md-6 p menu'}) \n",
    "list_nom_recette =[]\n",
    "for row in table_:\n",
    "    #print(row.text)\n",
    "    row = row.text.replace('\\n', ' ')\n",
    "    #row = row.replace('\\xa0', ' ')\n",
    "    list_nom_recette.append(row)"
   ]
  },
  {
   "cell_type": "code",
   "execution_count": 84,
   "id": "8f0e36ec",
   "metadata": {},
   "outputs": [
    {
     "name": "stdout",
     "output_type": "stream",
     "text": [
      "['Entrées', 'Breuvages', 'Tartines et sandwichs', 'Salades', 'Soupes, potées et ragoûts', 'Pâtes, pilafs et risottos', 'Rôtis et gratins', 'Poêlées et grillades', 'Garnitures', 'Crémerie', 'Boulangerie et pâtisserie', 'Recettes de base']\n"
     ]
    }
   ],
   "source": [
    "print(list_rubriques)"
   ]
  },
  {
   "cell_type": "code",
   "execution_count": 85,
   "id": "9b45b686",
   "metadata": {},
   "outputs": [],
   "source": [
    "list_recette_base =['conserves','conserves-au-sel','pickles-lactofermentes','sels-parfumés','conserves-au-sucre','confitures','conserves-au-vignaire','pickles','conserves-a-l-alacool','conserves-a-l-huile','beurres-parfumes','cuissons','fonds-et-bouillons','melanges-d-epices','sauces','chutneys','coulis','moutardes','sauces-blanches','mayonnaises','raitas','roux-blancs','sauces-soja','sauces-tomate','sauces-vertes','persillades','pestos-et-pistous','vinaigrettes','vromages','pates-de-base']"
   ]
  },
  {
   "cell_type": "code",
   "execution_count": 14,
   "id": "73cb30bc",
   "metadata": {},
   "outputs": [],
   "source": [
    "URL = 'https://www.cuisine-libre.org/tourte-au-lapin?lang=fr'\n",
    "r = requests.get(URL) \n",
    "soup = BeautifulSoup(r.content, 'html5lib')\n",
    "#print(soup.prettify()) "
   ]
  },
  {
   "cell_type": "code",
   "execution_count": null,
   "id": "8a779cd8",
   "metadata": {},
   "outputs": [],
   "source": [
    "####Test scrapping pour temps de preparation, cuisson , attente et nbre de personnes\n",
    "#<time class=\"crayon article-duree_preparation-784 \" datetime=\"PT45M\">45&nbsp;min </time>\n",
    "#<time class=\"crayon article-duree_repos-784 \" datetime=\"PT12H\">12&nbsp;h </time>\n",
    "#<time class=\"crayon article-duree_cuisson-784 \" datetime=\"PT45M\">45&nbsp;min </time>\n",
    "#<span class=\"crayon article-portions-784 yield\" itemprop=\"recipeYield\">6 à 8 personnes</span>\n",
    "temps_de_cuisson = soup.findAll('time', attrs = {'class':'auteur duree'})\n",
    "cuisson =[]\n",
    "for row in temps_de_cuisson:\n",
    "    \n",
    "    cuisson.append(row)"
   ]
  },
  {
   "cell_type": "code",
   "execution_count": 15,
   "id": "d48f3ec4",
   "metadata": {},
   "outputs": [
    {
     "name": "stdout",
     "output_type": "stream",
     "text": [
      "['45\\xa0min ', '45\\xa0min ']\n"
     ]
    }
   ],
   "source": [
    "time_Prep_attente_cuisson =[]\n",
    "for row_time in soup.find_all('time', datetime=True):\n",
    "    #print(row.text)  \n",
    "    time_Prep_attente_cuisson.append(row_time.text)\n",
    "    \n",
    "print(time_Prep_attente_cuisson)    "
   ]
  },
  {
   "cell_type": "code",
   "execution_count": 17,
   "id": "c0f8f918",
   "metadata": {},
   "outputs": [
    {
     "name": "stdout",
     "output_type": "stream",
     "text": [
      "['12\\xa0h ']\n"
     ]
    }
   ],
   "source": [
    "#time_attente =[]\n",
    "#for row_time in soup.findAll('time', attrs = {'datetime':'PT12H'}):\n",
    "    #print(row.text)  \n",
    "    #time_attente.append(row_time.text)\n",
    "#print(time_attente) "
   ]
  },
  {
   "cell_type": "code",
   "execution_count": 16,
   "id": "e970993d",
   "metadata": {},
   "outputs": [
    {
     "name": "stdout",
     "output_type": "stream",
     "text": [
      "['6 à 8 personnes']\n"
     ]
    }
   ],
   "source": [
    "nbre_personnes = soup.findAll('span', attrs = {'itemprop':'recipeYield'})\n",
    "nbr_personnes =[]\n",
    "for row_time in nbre_personnes:\n",
    "    #print(row.text)\n",
    "    nbr_personnes.append(row_time.text)\n",
    "    \n",
    "print(nbr_personnes)"
   ]
  },
  {
   "cell_type": "code",
   "execution_count": null,
   "id": "e37b1505",
   "metadata": {},
   "outputs": [],
   "source": [
    "#https://www.cuisine-libre.org/recettes-de-base-399?lang=fr&max=384"
   ]
  },
  {
   "cell_type": "code",
   "execution_count": 18,
   "id": "b6e35665",
   "metadata": {},
   "outputs": [],
   "source": [
    "import requests \n",
    "from bs4 import BeautifulSoup \n",
    "from collections import OrderedDict\n",
    "\n",
    "list_sous_rubriques_old =[]\n",
    "list_link =[]\n",
    "list_link_new =[]\n",
    "list_nom_recette_without_https =[]\n",
    "recette_name =[]\n",
    "URL = \"https://www.cuisine-libre.org/recettes-de-base-399?lang=fr&max=384\"\n",
    "r = requests.get(URL) \n",
    "\n",
    "soup = BeautifulSoup(r.content, 'html5lib') \n",
    "table_sous_rubriques = soup.findAll('strong')\n",
    "for i in table_sous_rubriques:\n",
    "            row = i.text.replace('</strong>','')\n",
    "            row = row.replace('<strong>','')\n",
    "            row = row.replace('\\xa0', '-')\n",
    "            list_sous_rubriques_old.append(row)\n",
    "list_sous_rubriques_new = [row for row in list_sous_rubriques_old if row != \"\"]\n",
    "list_sous_rubriques_new = OrderedDict.fromkeys(list_sous_rubriques_new)\n",
    "list_recette = list(list_sous_rubriques_new)\n",
    "#print(\"total number of recipes\",len(list_recette))  ###369 recipes\n",
    "#print(\"list of recipes\",list_recette) \n",
    "for a in soup.find_all('a', href=True):\n",
    "        #print(\"Found the URL:\", a['href'])\n",
    "        if not (a['href'].startswith('https:')) and not(a['href'].startswith('http:')):\n",
    "            list_link.append('https://www.cuisine-libre.org/'+ a['href'])\n",
    "            my_final_list = OrderedDict.fromkeys(list_link)\n",
    "            my_final_list_recette = list(my_final_list)\n",
    "  \n",
    "              \n",
    "list_link_href=['https://www.cuisine-libre.org/exporter#rss',            \n",
    "    'https://www.cuisine-libre.org/comment-ca-marche',            \n",
    "    'https://www.cuisine-libre.org/echange-de-liens',            \n",
    "    'https://www.cuisine-libre.org/abonnez-vous',           \n",
    "    'https://www.cuisine-libre.org/ajouter-une-recette',            \n",
    "    'https://www.cuisine-libre.org/licences',            \n",
    "    'https://www.cuisine-libre.org/mentions-legales',            \n",
    "    'https://www.cuisine-libre.org/familles-alimentaires',\n",
    "    'https://www.cuisine-libre.org/kezako',\n",
    "    'https://www.cuisine-libre.org/produits-de-saison',\n",
    "    'https://www.cuisine-libre.org/sante',\n",
    "    'https://www.cuisine-libre.org/#haut',\n",
    "    'https://www.cuisine-libre.org/#content',\n",
    "    'https://www.cuisine-libre.org/#nav',\n",
    "    'https://www.cuisine-libre.org/#recherche',\n",
    "    'https://www.cuisine-libre.org/saison',\n",
    "    'https://www.cuisine-libre.org/./?page=login',\n",
    "    'https://www.cuisine-libre.org/recettes',\n",
    "    'https://www.cuisine-libre.org/#recettes',\n",
    "    'https://www.cuisine-libre.org/#ingredients',\n",
    "    'https://www.cuisine-libre.org/./?page=backend&id_rubrique=399',\n",
    "                'https://www.cuisine-libre.org/recettes-de-base-399?lang=fr',\n",
    "    'https://www.cuisine-libre.org/recettes-de-base-399?lang=fr&mots[]=81',\n",
    "    'https://www.cuisine-libre.org/recettes-de-base-399?lang=fr&mots[]=82',\n",
    "    'https://www.cuisine-libre.org/recettes-de-base-399?lang=fr&mots[]=83',\n",
    "    'https://www.cuisine-libre.org/recettes-de-base-399?lang=fr&mots[]=50',\n",
    "    'https://www.cuisine-libre.org/faq',\n",
    "               'https://www.cuisine-libre.org/type-de-plats']\n",
    "\n",
    "\n",
    "for k in  list_link_href:\n",
    "    my_final_list_recette.remove(str(k))\n",
    "\n",
    "\n",
    "#print(len(my_final_list_recette))# numbers of recipes with cuisine-libre mentions                 "
   ]
  },
  {
   "cell_type": "code",
   "execution_count": 19,
   "id": "5c11ecf7",
   "metadata": {},
   "outputs": [],
   "source": [
    "list_pates_de_base = ['https://www.cuisine-libre.org/pates-de-base?max=72',\n",
    "                     'https://www.cuisine-libre.org/farces-galettes-et-boulettes?lang=fr&max=120',\n",
    "                     'https://www.cuisine-libre.org/conserves?lang=fr&max=144',\n",
    "                     'https://www.cuisine-libre.org/conserves-au-sel?lang=fr&max=48',\n",
    "                     'https://www.cuisine-libre.org/sauces-vertes?lang=fr&max=48',\n",
    "                     'https://www.cuisine-libre.org/raitas?lang=fr&mots[]=81',\n",
    "                     'https://www.cuisine-libre.org/sauces?lang=fr&max=144',\n",
    "                     'https://www.cuisine-libre.org/quiches?lang=fr&max=48',\n",
    "                     'https://www.cuisine-libre.org/flans?lang=fr&max=48',\n",
    "                      'https://www.cuisine-libre.org/omelettes-et-tortillas?lang=fr&max=48',\n",
    "                      'https://www.cuisine-libre.org/clafoutis?lang=fr&max=48',\n",
    "                      'https://www.cuisine-libre.org/chips-et-frites?lang=fr&max=48',\n",
    "                      'https://www.cuisine-libre.org/tajines?lang=fr&max=48',\n",
    "                      'https://www.cuisine-libre.org/currys?lang=fr&max=48',\n",
    "                      'https://www.cuisine-libre.org/soupes?lang=fr&max=144',\n",
    "                      'https://www.cuisine-libre.org/salades?lang=fr&max=432',\n",
    "                      'https://www.cuisine-libre.org/salades-de-feculents?lang=fr&max=120',\n",
    "                      'https://www.cuisine-libre.org/salades-vertes?lang=fr&max=48',\n",
    "                      'https://www.cuisine-libre.org/salades-rapees?lang=fr&max=48',\n",
    "                      'https://www.cuisine-libre.org/houmous?lang=fr&max=48',\n",
    "                      'https://www.cuisine-libre.org/milkshakes?lang=fr&max=48',\n",
    "                      'https://www.cuisine-libre.org/potages?lang=fr&max=48',\n",
    "                      'https://www.cuisine-libre.org/verrines-aperitives?lang=fr&max=48',\n",
    "                      'https://www.cuisine-libre.org/legumes-rotis?lang=fr&max=72',\n",
    "                      'https://www.cuisine-libre.org/tiramisus-et-cheesecakes?lang=fr&max=48',\n",
    "                      'https://www.cuisine-libre.org/pizzas-et-focaccias?lang=fr&max=72',\n",
    "                      'https://www.cuisine-libre.org/cookies?lang=fr&max=48',\n",
    "                      'https://www.cuisine-libre.org/pates-a-crepes-et-blinis?lang=fr&max=48',\n",
    "                      'https://www.cuisine-libre.org/tourtes-et-pates-en-croute?lang=fr&max=72',\n",
    "                      'https://www.cuisine-libre.org/vins-chauds',\n",
    "                      'https://www.cuisine-libre.org/amuse-gueules',\n",
    "                      'https://www.cuisine-libre.org/tempura-et-pakoras',\n",
    "                      'https://www.cuisine-libre.org/soupes-de-nouilles',\n",
    "                      'https://www.cuisine-libre.org/petits-farcis?max=48',\n",
    "                      'https://www.cuisine-libre.org/parmentiers?max=48',\n",
    "                      'https://www.cuisine-libre.org/ramequins-et-cocottes?max=48',\n",
    "                      'https://www.cuisine-libre.org/panes',\n",
    "                      'https://www.cuisine-libre.org/rostis?max=48',\n",
    "                      'https://www.cuisine-libre.org/flans-et-quiches?max=96',\n",
    "                      'https://www.cuisine-libre.org/porees' \n",
    "                     ]\n",
    "\n",
    "\n",
    "\n",
    "import requests \n",
    "from bs4 import BeautifulSoup \n",
    "from collections import OrderedDict\n",
    "import pandas as pd\n",
    "import re\n",
    "\n",
    "list_ingredient = []\n",
    "list_preparation = []\n",
    "recette_name= []\n",
    "link_recette = []\n",
    "\n",
    "\n",
    "list_sous_rubriques_old =[]\n",
    "list_link =[]\n",
    "list_link_new =[]\n",
    "list_nom_recette_without_https =[]\n",
    "recette_name =[]\n",
    "\n",
    "\n",
    "nbr_personnes =[]\n",
    "time_Prep_attente_cuisson =[]\n",
    "for url in list_pates_de_base :\n",
    "    \n",
    "        r = requests.get(url) \n",
    "\n",
    "        soup = BeautifulSoup(r.content, 'html5lib') \n",
    "        table_sous_rubriques = soup.findAll('strong')\n",
    "        for i in table_sous_rubriques:\n",
    "            row = i.text.replace('</strong>','')\n",
    "            row = row.replace('<strong>','')\n",
    "            row = row.replace('\\xa0', '-')\n",
    "            list_sous_rubriques_old.append(row)\n",
    "        list_sous_rubriques_new = [row for row in list_sous_rubriques_old if row != \"\"]\n",
    "        list_sous_rubriques_new = OrderedDict.fromkeys(list_sous_rubriques_new)\n",
    "        list_recette = list(list_sous_rubriques_new)\n",
    "        #print(\"total number of recipes\",len(list_recette))  \n",
    "        #print(\"list of recipes\",list_recette) \n",
    "        for a in soup.find_all('a', href=True):\n",
    "        #print(\"Found the URL:\", a['href'])\n",
    "               if not (a['href'].startswith('https:')) and not(a['href'].startswith('http:')):\n",
    "                        list_link.append('https://www.cuisine-libre.org/'+ a['href'])\n",
    "                        my_final_list = OrderedDict.fromkeys(list_link)\n",
    "                        my_final_list_recette = list(my_final_list)\n",
    "\n",
    "\n",
    "        \n",
    "for link in my_final_list_recette:\n",
    "                    globals()['name_recette_'+str(link)] = []\n",
    "                    globals()['recette_link_'+str(link)] = []\n",
    "                    name_recette_ = link.rsplit('/', 1)[-1]\n",
    "                    link_recette_ = link\n",
    "                    globals()['recette_link_'+str(link)].append(link_recette_)\n",
    "                    link_recette.append(globals()['recette_link_'+str(link)]) \n",
    "                    globals()['name_recette_'+str(link)].append(name_recette_)\n",
    "                    recette_name.append(globals()['name_recette_'+str(link)])\n",
    "                    URL_recette = link\n",
    "                    r = requests.get(URL_recette, headers = {'User-agent': 'Mozilla/5.0 (Windows NT 6.1; Win64; x64) AppleWebKit/537.36 (KHTML, like Gecko) Chrome/64.0.3282.186 Safari/537.36'}) \n",
    "                    globals()['soup_recette'+str(link)] = BeautifulSoup(r.content, 'html5lib')\n",
    "                    globals()['list_ingredient'+str(link)] = []\n",
    "                    globals()['list_preparation'+str(link)] = []\n",
    "                    globals()['table_ingredient'+str(link)] = []\n",
    "                    globals()['table_ingredient'+str(link)] = globals()['soup_recette'+str(link)].findAll('li', attrs = {'class':'ingredient'}) \n",
    "                    for row in globals()['table_ingredient'+str(link)]:\n",
    "                        row = row.text.replace('\\xa0', ' ')\n",
    "                        globals()['list_ingredient'+str(link)].append(row)\n",
    "            \n",
    "                    list_ingredient.append(globals()['list_ingredient'+str(link)])    \n",
    "        \n",
    "                    globals()['table_preparation'+str(link)] = []\n",
    "                    globals()['table_preparation'+str(link)] = [t for t in globals()['soup_recette'+str(link)].find_all('p',text=True)]      \n",
    "                    for row in globals()['table_preparation'+str(link)]:\n",
    "                            row = row.text.replace('\\xa0', ' ')\n",
    "                            row = row.replace('\\n','')\n",
    "                            row = row.replace('\\t','')\n",
    "                            globals()['list_preparation'+str(link)].append(row)\n",
    "                    list_preparation.append(globals()['list_preparation'+str(link)])               \n",
    "                    globals()['nbre_personnes'+str(link)] = []\n",
    "                    globals()['personnes_total'+str(link)] = []\n",
    "                    globals()['nbre_personnes'+str(link)] = globals()['soup_recette'+str(link)].findAll('span', attrs = {'itemprop':'recipeYield'})\n",
    "\n",
    "                    for row_per in globals()['nbre_personnes'+str(link)]:\n",
    "                             \n",
    "                              globals()['personnes_total'+str(link)].append(row_per.text)\n",
    "                    nbr_personnes.append(globals()['personnes_total'+str(link)])             \n",
    "                                \n",
    "                    globals()['time_Prep_attente_cuisson'+str(link)] = []\n",
    "                    for row_time in globals()['soup_recette'+str(link)].find_all('time', datetime=True):\n",
    "  \n",
    "                              globals()['time_Prep_attente_cuisson'+str(link)].append(row_time.text)\n",
    "    \n",
    "                    time_Prep_attente_cuisson.append(globals()['time_Prep_attente_cuisson'+str(link)])  \n",
    "    \n",
    "    \n",
    "    \n",
    "df = pd.DataFrame({'nom_recette':recette_name,'lien_recette':link_recette,'nombre_personne':nbr_personnes,'ingredient': list_ingredient,'preparation': list_preparation,'temps_preparation_attente_cuisson':time_Prep_attente_cuisson})        \n",
    "  \n",
    "df.to_csv('./final_test.csv',sep=',',encoding=\"utf-8\")\n",
    "\n"
   ]
  },
  {
   "cell_type": "code",
   "execution_count": 10,
   "id": "a78e9abc",
   "metadata": {},
   "outputs": [],
   "source": [
    "#print(my_final_list_recette)"
   ]
  },
  {
   "cell_type": "code",
   "execution_count": null,
   "id": "f45371f0",
   "metadata": {},
   "outputs": [],
   "source": [
    "#<time class=\"crayon article-duree_preparation-784 \" datetime=\"PT45M\">45&nbsp;min </time>\n",
    "#<time class=\"crayon article-duree_repos-784 \" datetime=\"PT12H\">12&nbsp;h </time>\n",
    "#<time class=\"crayon article-duree_cuisson-784 \" datetime=\"PT45M\">45&nbsp;min </time>\n",
    "#<span class=\"crayon article-portions-784 yield\" itemprop=\"recipeYield\">6 à 8 personnes</span>\n"
   ]
  }
 ],
 "metadata": {
  "kernelspec": {
   "display_name": "Python 3",
   "language": "python",
   "name": "python3"
  },
  "language_info": {
   "codemirror_mode": {
    "name": "ipython",
    "version": 3
   },
   "file_extension": ".py",
   "mimetype": "text/x-python",
   "name": "python",
   "nbconvert_exporter": "python",
   "pygments_lexer": "ipython3",
   "version": "3.8.5"
  }
 },
 "nbformat": 4,
 "nbformat_minor": 5
}
